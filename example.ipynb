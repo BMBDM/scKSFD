{
 "cells": [
  {
   "cell_type": "code",
   "execution_count": 1,
   "metadata": {},
   "outputs": [
    {
     "name": "stdout",
     "output_type": "stream",
     "text": [
      "Data loading in progress...\n",
      "Data loading complete.\n",
      "---------------------------------------------------------------\n",
      "Data preprocessing in progress...\n",
      "Extracted 2000 highly variable genes.\n",
      "Data preprocessing complete.\n",
      "---------------------------------------------------------------\n",
      "scKSFD beginning\n",
      "Creating client data in progress...\n",
      "Creating client data complete.\n",
      "Creating proxy dataset in progress...\n",
      "Creating proxy dataset complete.\n",
      "Initializing client models...\n"
     ]
    },
    {
     "name": "stderr",
     "output_type": "stream",
     "text": [
      "/mnt/202001Main/BioData/scNV/scKSFD/preprocessing.py:8: DeprecationWarning: `log1p` is deprecated since scVelo v0.3.0 and will be removed in a future version. Please use `log1p` from `scanpy.pp` instead.\n",
      "  scv.pp.log1p(adata)\n"
     ]
    },
    {
     "name": "stdout",
     "output_type": "stream",
     "text": [
      "Client models initialized.\n",
      "Global model running...\n"
     ]
    }
   ],
   "source": [
    "from main import scKSFD_model\n",
    "clients_num = 2\n",
    "Proportion = 0.1\n",
    "scKSFD_model('example_data/', clients_num, Proportion)"
   ]
  }
 ],
 "metadata": {
  "kernelspec": {
   "display_name": "SunNan_env",
   "language": "python",
   "name": "python3"
  },
  "language_info": {
   "codemirror_mode": {
    "name": "ipython",
    "version": 3
   },
   "file_extension": ".py",
   "mimetype": "text/x-python",
   "name": "python",
   "nbconvert_exporter": "python",
   "pygments_lexer": "ipython3",
   "version": "3.12.3"
  }
 },
 "nbformat": 4,
 "nbformat_minor": 2
}
