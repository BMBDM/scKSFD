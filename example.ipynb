{
 "cells": [
  {
   "cell_type": "code",
   "execution_count": 1,
   "metadata": {},
   "outputs": [
    {
     "name": "stdout",
     "output_type": "stream",
     "text": [
      "Data loading in progress...\n",
      "Data loading complete.\n",
      "---------------------------------------------------------------\n",
      "Data preprocessing in progress...\n",
      "Extracted 2038 highly variable genes.\n",
      "Data preprocessing complete.\n",
      "---------------------------------------------------------------\n",
      "scKSFD beginning\n",
      "Creating client data in progress...\n",
      "Creating client data complete.\n",
      "Creating proxy dataset in progress...\n",
      "Creating proxy dataset complete.\n",
      "Initializing client models...\n"
     ]
    },
    {
     "name": "stderr",
     "output_type": "stream",
     "text": [
      "/mnt/202001Main/BioData/scNV/scKSFD/preprocessing.py:8: DeprecationWarning: `log1p` is deprecated since scVelo v0.3.0 and will be removed in a future version. Please use `log1p` from `scanpy.pp` instead.\n",
      "  scv.pp.log1p(adata)\n"
     ]
    },
    {
     "name": "stdout",
     "output_type": "stream",
     "text": [
      "Client models initialized.\n",
      "Global model running...\n",
      "Epoch 499, Loss: 0.0283, F1-score: 0.9936\n",
      "Global model run finished.\n",
      "scKSFD finished\n",
      "---------------------------------------------------------------\n",
      "scKSFD results:\n",
      "\n",
      "Accuracy: 0.9937 \n",
      "\n",
      "Precision: 0.9938 \n",
      "\n",
      "Recall: 0.9937 \n",
      "\n",
      "Weighted-F1: 0.9936 \n",
      "\n",
      "Run_time: 387.95976758003235 \n",
      "\n"
     ]
    }
   ],
   "source": [
    "from main import scKSFD_model\n",
    "clients_num = 2\n",
    "Proportion = 0.1\n",
    "scKSFD_model('example_data/', clients_num, Proportion)"
   ]
  }
 ],
 "metadata": {
  "kernelspec": {
   "display_name": "SunNan_env",
   "language": "python",
   "name": "python3"
  },
  "language_info": {
   "codemirror_mode": {
    "name": "ipython",
    "version": 3
   },
   "file_extension": ".py",
   "mimetype": "text/x-python",
   "name": "python",
   "nbconvert_exporter": "python",
   "pygments_lexer": "ipython3",
   "version": "3.12.3"
  }
 },
 "nbformat": 4,
 "nbformat_minor": 2
}
